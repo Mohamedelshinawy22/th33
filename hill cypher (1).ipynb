{
 "cells": [
  {
   "cell_type": "code",
   "execution_count": 1,
   "id": "e94aeb82",
   "metadata": {},
   "outputs": [],
   "source": [
    "%pip install numpy"
   ]
  },
  {
   "cell_type": "code",
   "execution_count": null,
   "id": "696662f9",
   "metadata": {},
   "outputs": [],
   "source": [
    "import numpy as np "
   ]
  },
  {
   "cell_type": "code",
   "execution_count": null,
   "id": "81dfcb43",
   "metadata": {},
   "outputs": [
    {
     "data": {
      "text/plain": [
       "'mohamedr'"
      ]
     },
     "execution_count": 33,
     "metadata": {},
     "output_type": "execute_result"
    }
   ],
   "source": [
    "PT = \"mohamedr\"\n",
    "PT"
   ]
  },
  {
   "cell_type": "code",
   "execution_count": null,
   "id": "841431b9",
   "metadata": {},
   "outputs": [
    {
     "data": {
      "text/plain": [
       "'mohamedr'"
      ]
     },
     "execution_count": 34,
     "metadata": {},
     "output_type": "execute_result"
    }
   ],
   "source": [
    "PT = PT.replace(\" \", \"\")\n",
    "PT #to remove spaces"
   ]
  },
  {
   "cell_type": "code",
   "execution_count": null,
   "id": "26385c43",
   "metadata": {},
   "outputs": [
    {
     "data": {
      "text/plain": [
       "'mohamedr'"
      ]
     },
     "execution_count": 35,
     "metadata": {},
     "output_type": "execute_result"
    }
   ],
   "source": [
    "PT = PT.lower()\n",
    "PT # to set all letters to lower case"
   ]
  },
  {
   "cell_type": "code",
   "execution_count": null,
   "id": "33540f9a",
   "metadata": {},
   "outputs": [
    {
     "data": {
      "text/plain": [
       "'test'"
      ]
     },
     "execution_count": 36,
     "metadata": {},
     "output_type": "execute_result"
    }
   ],
   "source": [
    "key = \"test\"\n",
    "key # the key"
   ]
  },
  {
   "cell_type": "code",
   "execution_count": null,
   "id": "057b899f",
   "metadata": {},
   "outputs": [
    {
     "name": "stdout",
     "output_type": "stream",
     "text": [
      "{'a': 0, 'b': 1, 'c': 2, 'd': 3, 'e': 4, 'f': 5, 'g': 6, 'h': 7, 'i': 8, 'j': 9, 'k': 10, 'l': 11, 'm': 12, 'n': 13, 'o': 14, 'p': 15, 'q': 16, 'r': 17, 's': 18, 't': 19, 'u': 20, 'v': 21, 'w': 22, 'x': 23, 'y': 24, 'z': 25}\n"
     ]
    }
   ],
   "source": [
    "EAM = {chr(i):i-97 for i in range(97, 97+26)}\n",
    "print(EAM) # change letters into numbers with map"
   ]
  },
  {
   "cell_type": "code",
   "execution_count": null,
   "id": "78c24bab",
   "metadata": {},
   "outputs": [
    {
     "name": "stdout",
     "output_type": "stream",
     "text": [
      "{0: 'a', 1: 'b', 2: 'c', 3: 'd', 4: 'e', 5: 'f', 6: 'g', 7: 'h', 8: 'i', 9: 'j', 10: 'k', 11: 'l', 12: 'm', 13: 'n', 14: 'o', 15: 'p', 16: 'q', 17: 'r', 18: 's', 19: 't', 20: 'u', 21: 'v', 22: 'w', 23: 'x', 24: 'y', 25: 'z'}\n"
     ]
    }
   ],
   "source": [
    "EAM_rev = {i-97:chr(i) for i in range(97, 97+26)}\n",
    "print(EAM_rev)# to return numbers into letters"
   ]
  },
  {
   "cell_type": "code",
   "execution_count": null,
   "id": "743068f8",
   "metadata": {},
   "outputs": [
    {
     "data": {
      "text/plain": [
       "[12, 14, 7, 0, 12, 4, 3, 17]"
      ]
     },
     "execution_count": 39,
     "metadata": {},
     "output_type": "execute_result"
    }
   ],
   "source": [
    "PT_numbers = [EAM[i] for i in PT]\n",
    "PT_numbers # change the plain text letters into numbers"
   ]
  },
  {
   "cell_type": "code",
   "execution_count": null,
   "id": "670637f8",
   "metadata": {},
   "outputs": [
    {
     "data": {
      "text/plain": [
       "[19, 4, 18, 19]"
      ]
     },
     "execution_count": 40,
     "metadata": {},
     "output_type": "execute_result"
    }
   ],
   "source": [
    "key_numbers = [EAM[i] for i in key]\n",
    "key_numbers # change the key letters into numbers"
   ]
  },
  {
   "cell_type": "code",
   "execution_count": null,
   "id": "39359022",
   "metadata": {},
   "outputs": [],
   "source": []
  },
  {
   "cell_type": "code",
   "execution_count": null,
   "id": "d6d66906",
   "metadata": {},
   "outputs": [
    {
     "data": {
      "text/plain": [
       "2"
      ]
     },
     "execution_count": 41,
     "metadata": {},
     "output_type": "execute_result"
    }
   ],
   "source": [
    "BL = len(key_numbers)//2 # Block Length\n",
    "BL # setting block length to use in making matrices"
   ]
  },
  {
   "cell_type": "code",
   "execution_count": null,
   "id": "385447f8",
   "metadata": {},
   "outputs": [
    {
     "name": "stdout",
     "output_type": "stream",
     "text": [
      "[[19  4]\n",
      " [18 19]]\n"
     ]
    }
   ],
   "source": [
    "key_matrix = np.array(key_numbers).reshape(BL, BL)\n",
    "print(key_matrix) # setting up key matrix"
   ]
  },
  {
   "cell_type": "code",
   "execution_count": null,
   "id": "19849a1c",
   "metadata": {},
   "outputs": [
    {
     "name": "stdout",
     "output_type": "stream",
     "text": [
      "[12 14  7  0 12  4  3 17]\n"
     ]
    }
   ],
   "source": [
    "PT_array = np.array(PT_numbers)\n",
    "print(PT_array) # converting text converted numbers into array to make a matrix"
   ]
  },
  {
   "cell_type": "code",
   "execution_count": null,
   "id": "e82f1307",
   "metadata": {},
   "outputs": [
    {
     "name": "stdout",
     "output_type": "stream",
     "text": [
      "[array([12, 14]), array([7, 0]), array([12,  4]), array([ 3, 17])]\n"
     ]
    }
   ],
   "source": [
    "PT_blocks = np.split(PT_array, len(PT_array)/BL)\n",
    "print(PT_blocks) #making blocks to multiply by the key matrix"
   ]
  },
  {
   "cell_type": "code",
   "execution_count": null,
   "id": "79312506",
   "metadata": {},
   "outputs": [
    {
     "data": {
      "text/plain": [
       "[array([12,  2], dtype=int32),\n",
       " array([3, 2], dtype=int32),\n",
       " array([14, 20], dtype=int32),\n",
       " array([25, 23], dtype=int32)]"
      ]
     },
     "execution_count": 45,
     "metadata": {},
     "output_type": "execute_result"
    }
   ],
   "source": [
    "CT_blocks = [np.matmul(PT_blocks[i], key_matrix) % 26 for i in range(len(PT)//BL)]\n",
    "CT_blocks # enycrypted blocks"
   ]
  },
  {
   "cell_type": "code",
   "execution_count": null,
   "id": "383c93d1",
   "metadata": {},
   "outputs": [
    {
     "data": {
      "text/plain": [
       "array([12,  2,  3,  2, 14, 20, 25, 23], dtype=int32)"
      ]
     },
     "execution_count": 46,
     "metadata": {},
     "output_type": "execute_result"
    }
   ],
   "source": [
    "CT_array = np.concatenate(CT_blocks)\n",
    "CT_array #convert encrypted blocks into array"
   ]
  },
  {
   "cell_type": "code",
   "execution_count": null,
   "id": "1befd816",
   "metadata": {},
   "outputs": [
    {
     "data": {
      "text/plain": [
       "['m', 'c', 'd', 'c', 'o', 'u', 'z', 'x']"
      ]
     },
     "execution_count": 47,
     "metadata": {},
     "output_type": "execute_result"
    }
   ],
   "source": [
    "CT = [EAM_rev[CT_array[i]] for i in range(len(CT_array))]\n",
    "CT #convert encrypted text numbers into list of letters"
   ]
  },
  {
   "cell_type": "code",
   "execution_count": null,
   "id": "18b802a9",
   "metadata": {},
   "outputs": [
    {
     "data": {
      "text/plain": [
       "'mcdcouzx'"
      ]
     },
     "execution_count": 48,
     "metadata": {},
     "output_type": "execute_result"
    }
   ],
   "source": [
    "''.join(CT)# to join enycrpted letters"
   ]
  },
  {
   "cell_type": "markdown",
   "id": "6bf815b0",
   "metadata": {},
   "source": [
    "# getting inverse"
   ]
  },
  {
   "cell_type": "code",
   "execution_count": null,
   "id": "e11306fa",
   "metadata": {},
   "outputs": [
    {
     "data": {
      "text/plain": [
       "[12, 2, 3, 2, 14, 20, 25, 23]"
      ]
     },
     "execution_count": 49,
     "metadata": {},
     "output_type": "execute_result"
    }
   ],
   "source": [
    "CT_numbers = [EAM[i] for i in CT]\n",
    "CT_numbers # convert encrypted letters into numbers again"
   ]
  },
  {
   "cell_type": "code",
   "execution_count": null,
   "id": "bfca7e09",
   "metadata": {},
   "outputs": [
    {
     "data": {
      "text/plain": [
       "array([[ 19.,  -4.],\n",
       "       [-18.,  19.]])"
      ]
     },
     "execution_count": 50,
     "metadata": {},
     "output_type": "execute_result"
    }
   ],
   "source": [
    "adj_key_matrix = np.linalg.inv(key_matrix) * round(np.linalg.det(key_matrix)) # important distinction between int and round\n",
    "adj_key_matrix# getting matrix adjective"
   ]
  },
  {
   "cell_type": "code",
   "execution_count": null,
   "id": "4823d837",
   "metadata": {},
   "outputs": [
    {
     "data": {
      "text/plain": [
       "289"
      ]
     },
     "execution_count": 51,
     "metadata": {},
     "output_type": "execute_result"
    }
   ],
   "source": [
    "round(np.linalg.det(key_matrix))#matrix det"
   ]
  },
  {
   "cell_type": "code",
   "execution_count": null,
   "id": "cdae9f37",
   "metadata": {},
   "outputs": [
    {
     "data": {
      "text/plain": [
       "9"
      ]
     },
     "execution_count": 52,
     "metadata": {},
     "output_type": "execute_result"
    }
   ],
   "source": [
    "pow(round(np.linalg.det(key_matrix)), -1, 26)#det inverse"
   ]
  },
  {
   "cell_type": "code",
   "execution_count": null,
   "id": "e4b95e4c",
   "metadata": {},
   "outputs": [
    {
     "data": {
      "text/plain": [
       "array([[15., 16.],\n",
       "       [20., 15.]])"
      ]
     },
     "execution_count": 53,
     "metadata": {},
     "output_type": "execute_result"
    }
   ],
   "source": [
    "key_inverse = (pow(round(np.linalg.det(key_matrix)), -1, 26) * adj_key_matrix) % 26\n",
    "\n",
    "key_inverse # getting key inverse\n"
   ]
  },
  {
   "cell_type": "markdown",
   "id": "544b5e9e",
   "metadata": {},
   "source": [
    "# Decryption"
   ]
  },
  {
   "cell_type": "code",
   "execution_count": null,
   "id": "a6d1980e",
   "metadata": {},
   "outputs": [
    {
     "data": {
      "text/plain": [
       "array([12,  2,  3,  2, 14, 20, 25, 23])"
      ]
     },
     "execution_count": 54,
     "metadata": {},
     "output_type": "execute_result"
    }
   ],
   "source": [
    "CT_array = np.array(CT_numbers)\n",
    "CT_array # converting enycrypted numbers into array"
   ]
  },
  {
   "cell_type": "code",
   "execution_count": null,
   "id": "5eb09ee5",
   "metadata": {},
   "outputs": [
    {
     "data": {
      "text/plain": [
       "[array([12,  2]), array([3, 2]), array([14, 20]), array([25, 23])]"
      ]
     },
     "execution_count": 55,
     "metadata": {},
     "output_type": "execute_result"
    }
   ],
   "source": [
    "CT_blocks = np.split(CT_array, len(CT_numbers)//BL)\n",
    "CT_blocks #convert into blocks to multi by inverse of key"
   ]
  },
  {
   "cell_type": "code",
   "execution_count": null,
   "id": "27ab8bde",
   "metadata": {},
   "outputs": [
    {
     "data": {
      "text/plain": [
       "[array([12,  2]), array([3, 2]), array([14, 20]), array([25, 23])]"
      ]
     },
     "execution_count": 56,
     "metadata": {},
     "output_type": "execute_result"
    }
   ],
   "source": [
    "CT_blocks = np.split(CT_array, len(CT_numbers)//BL)\n",
    "CT_blocks"
   ]
  },
  {
   "cell_type": "code",
   "execution_count": null,
   "id": "44e2b6b8",
   "metadata": {},
   "outputs": [
    {
     "data": {
      "text/plain": [
       "[array([12., 14.]),\n",
       " array([7.00000000e+00, 2.84217094e-14]),\n",
       " array([12.,  4.]),\n",
       " array([ 3., 17.])]"
      ]
     },
     "execution_count": 57,
     "metadata": {},
     "output_type": "execute_result"
    }
   ],
   "source": [
    "PT_blocks = [np.matmul(CT_blocks[i], key_inverse) % 26 for i in range(len(PT)//BL)]\n",
    "PT_blocks# multible by key invers to restor original values"
   ]
  },
  {
   "cell_type": "code",
   "execution_count": null,
   "id": "f27192ab",
   "metadata": {},
   "outputs": [
    {
     "data": {
      "text/plain": [
       "array([1.20000000e+01, 1.40000000e+01, 7.00000000e+00, 2.84217094e-14,\n",
       "       1.20000000e+01, 4.00000000e+00, 3.00000000e+00, 1.70000000e+01])"
      ]
     },
     "execution_count": 58,
     "metadata": {},
     "output_type": "execute_result"
    }
   ],
   "source": [
    "PT_array = np.concatenate(PT_blocks)\n",
    "PT_array# retore values into array"
   ]
  },
  {
   "cell_type": "code",
   "execution_count": null,
   "id": "898d3ea3",
   "metadata": {},
   "outputs": [
    {
     "data": {
      "text/plain": [
       "['m', 'o', 'h', 'a', 'm', 'e', 'd', 'r']"
      ]
     },
     "execution_count": 59,
     "metadata": {},
     "output_type": "execute_result"
    }
   ],
   "source": [
    "[EAM_rev[round(i)] for i in PT_array] #convert to letters and the text is restord"
   ]
  },
  {
   "cell_type": "code",
   "execution_count": null,
   "id": "a3860562",
   "metadata": {},
   "outputs": [],
   "source": []
  },
  {
   "cell_type": "code",
   "execution_count": null,
   "id": "05cb4f32-4c98-4b54-82cc-1a757835592d",
   "metadata": {},
   "outputs": [],
   "source": []
  }
 ],
 "metadata": {
  "kernelspec": {
   "display_name": "Python 3",
   "language": "python",
   "name": "python3"
  },
  "language_info": {
   "codemirror_mode": {
    "name": "ipython",
    "version": 3
   },
   "file_extension": ".py",
   "mimetype": "text/x-python",
   "name": "python",
   "nbconvert_exporter": "python",
   "pygments_lexer": "ipython3",
   "version": "3.10.4"
  },
  "vscode": {
   "interpreter": {
    "hash": "5a16e408d68f170280fa0f3b6ea499f4478f9f438ebc1f9e15d23d73723c34da"
   }
  }
 },
 "nbformat": 4,
 "nbformat_minor": 5
}
